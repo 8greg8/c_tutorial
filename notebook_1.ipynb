{
 "cells": [
  {
   "cell_type": "markdown",
   "metadata": {},
   "source": [
    " # Interactive C Tutorial (Part I)\n",
    " This tutorial is designed for all who need to refresh their understanding of\n",
    " C programming language. C is a general-purpose language developed in 1972 by\n",
    " Dennis M. Ritchie. It is easy to learn and can handle low-level activities.\n",
    " Because of that, programs written in it are among the fastest (except those\n",
    " written in assembly).\n",
    " \n",
    " The tutorial is structured as follows:\n",
    " First, we will look at the basic structure of programs written in C. Then we\n",
    " will talk about syntax, data types loops and functions. Next, we will dive\n",
    " into more advanced topics of pointers and arrays. In the last chapter, we will\n",
    " look at IDEs, compilers and debugging."
   ]
  },
  {
   "cell_type": "markdown",
   "metadata": {},
   "source": [
    "## Minimal program\n",
    "Bellow you will see the smallest program that you can write with C. What you see is basically a function, but more on that later. The most important part to remember is that this is the entry point of your program. Every C program has a `main` function and it is executed when we call our program. \n",
    "\n",
    "To play with, it try deleting some parts of the code and hit \n",
    "\n",
    "`Shift + Enter`. \n",
    "\n",
    "For deleting some parts, compiler will throw errors and for others not. Can you explain why is this so?"
   ]
  },
  {
   "cell_type": "code",
   "execution_count": 1,
   "metadata": {},
   "outputs": [
    {
     "ename": "SyntaxError",
     "evalue": "invalid syntax (<ipython-input-1-b086ef6cf0d0>, line 1)",
     "output_type": "error",
     "traceback": [
      "\u001b[1;36m  File \u001b[1;32m\"<ipython-input-1-b086ef6cf0d0>\"\u001b[1;36m, line \u001b[1;32m1\u001b[0m\n\u001b[1;33m    main(){}\u001b[0m\n\u001b[1;37m          ^\u001b[0m\n\u001b[1;31mSyntaxError\u001b[0m\u001b[1;31m:\u001b[0m invalid syntax\n"
     ]
    }
   ],
   "source": [
    "int main(void){\n",
    "    return 0;\n",
    "}\n",
    "\n"
   ]
  },
  {
   "cell_type": "markdown",
   "metadata": {},
   "source": [
    "The reason why are the standards in use. Above code is the minimal possible code for *standard C90*. If we use *standard C99*, then we can omit the `int` and `return 0;` part."
   ]
  },
  {
   "cell_type": "markdown",
   "metadata": {},
   "source": [
    "## Basic program structure\n",
    "C program consists of the following parts:\n",
    "    - License header\n",
    "    - Comments\n",
    "    - Preprocessor commands\n",
    "    - Functions\n",
    "    - Variables\n",
    "    - Statements and expressions\n",
    "    \n"
   ]
  },
  {
   "cell_type": "markdown",
   "metadata": {},
   "source": [
    "### License header\n",
    "First of all a license header is not mandatory. In fact you normally don't write it when you are working on your home project. Nevertheless, a license header, or better, a license is very important if you want to distribute your code to others. With an appropriate license you give others an official permission to use or modify your code. Common licenses that are used, are `BSD`, `GNU GPL`, `Apache`, `MIT`, `CC` ... These are all open-source licenses with different restrictions. You can also have licenses that are not open-source or free.\n",
    "\n",
    "Below you can see an example of `GNU GPLv3` license header that can be used in your program"
   ]
  },
  {
   "cell_type": "raw",
   "metadata": {},
   "source": [
    "/**\n",
    "* Copyright 2019 John Doe\n",
    "* \n",
    "* Licensed under the Apache License, Version 2.0 (the \"License\");\n",
    "* you may not use this file except in compliance with the License.\n",
    "* You may obtain a copy of the License at\n",
    "* \n",
    "*     http://www.apache.org/licenses/LICENSE-2.0\n",
    "* \n",
    "* Unless required by applicable law or agreed to in writing, software\n",
    "* distributed under the License is distributed on an \"AS IS\" BASIS,\n",
    "* WITHOUT WARRANTIES OR CONDITIONS OF ANY KIND, either express or implied.\n",
    "* See the License for the specific language governing permissions and\n",
    "* limitations under the License.\n",
    "**/"
   ]
  },
  {
   "cell_type": "markdown",
   "metadata": {},
   "source": [
    "To get the idea which license to use you can go to [choose a license ](https://choosealicense.com/licenses/) or [tl;drLegal](https://tldrlegal.com/). \n",
    "\n",
    "What you must remember is *not all open-source programs are free and not all free programs are open-source*."
   ]
  },
  {
   "cell_type": "markdown",
   "metadata": {},
   "source": [
    "### Comments\n",
    "Comments are essential for writing good and readable code. Comments are there to help you and your team to remember or understand parts of the more complicated code, where you cannot immediatelly see from the lines what are they about. \n",
    "\n",
    "First of all, you should write readable code. What I mean with that is you can figure out what the code is about when I write `fruit = apples + oranges;`. If I write something like `a = b + c;` you cannot know what `a` means. \n",
    "\n",
    "So in C you have inline comments of form `// comment` and multiline comments with the syntax `/* comment */`"
   ]
  },
  {
   "cell_type": "markdown",
   "metadata": {},
   "source": [
    "### Preprocessor commands\n",
    "Preprocessor commands or directives are performed before the source code compilation. Every preprocessor commands begins with # symbol. \n",
    "\n",
    "#### #define\n",
    "This command is used to create macros. What this command does is it replaces the tokens in the source code. For example macro `#define PI 3.14` will replace all `PI`s in the code with `3.14`. Macros are mainly used for defining the *constants*.\n",
    "\n",
    "#### #undef\n",
    "Used to destroy a macro created using `#define`\n",
    "\n",
    "#### #ifndef and #endif\n",
    "`#ifndef` is a starting command and `#endif` is the end command. They are used to surround a part of code that is executed if a macro is **not** defined. Similarly you would use `#ifdef` to check if macro was defined. \n",
    "\n",
    "This kind of conditional command is mainly used when you have a source code written in more than one file. Basically, this structure helps you not to include headers more than once. Suppose you have a file named `foo.h`, then the following wrapper is normally used:\n"
   ]
  },
  {
   "cell_type": "raw",
   "metadata": {},
   "source": [
    "#ifndef FOO_H\n",
    "#define FOO_H\n",
    "\n",
    "/*\n",
    " here you put your code\n",
    "*/\n",
    "\n",
    "#endif /* FOO_H*/"
   ]
  },
  {
   "cell_type": "markdown",
   "metadata": {},
   "source": [
    "#### #if, #elif, #else and #endif\n",
    "This are the preprocessor directives for conditional expressions. They are most often used to define different blocks of code that will be compiled for different operating systems. For example the code below can be used to compile different code for Linux and Windows."
   ]
  },
  {
   "cell_type": "raw",
   "metadata": {},
   "source": [
    "#if __linux__\n",
    "\n",
    "/* some code for Linux */\n",
    "\n",
    "#elif _WIN32\n",
    "\n",
    "/* some code for Windows 32-bit */\n",
    "\n",
    "#else\n",
    "\n",
    "/* some code specific for other systems */\n",
    "\n",
    "#endif"
   ]
  },
  {
   "cell_type": "markdown",
   "metadata": {},
   "source": [
    "#### #include\n",
    "This is basically the most important directive. With it you include header files of other source code at the place where you call this directive. So if you want your program to have I/O functionality you would import standard I/O library by `#include <stdio.h>`. You could also include files from others as `#include \"/path/to/file.h\"`.\n",
    "\n",
    "So what is the difference between using angle brackets `<>` and double quotes`\"\"`? Angle brackets are mainly used for system headers. Angle brackets are used for files in your local directory. "
   ]
  },
  {
   "cell_type": "markdown",
   "metadata": {},
   "source": [
    "## Updated source code\n",
    "So now that we know something about the source code structure, we can write the following more professional code:"
   ]
  },
  {
   "cell_type": "code",
   "execution_count": null,
   "metadata": {},
   "outputs": [],
   "source": [
    "/**\n",
    "* Copyright 2019 John Doe\n",
    "* \n",
    "* Licensed under the Apache License, Version 2.0 (the \"License\");\n",
    "* you may not use this file except in compliance with the License.\n",
    "* You may obtain a copy of the License at\n",
    "* \n",
    "*     http://www.apache.org/licenses/LICENSE-2.0\n",
    "* \n",
    "* Unless required by applicable law or agreed to in writing, software\n",
    "* distributed under the License is distributed on an \"AS IS\" BASIS,\n",
    "* WITHOUT WARRANTIES OR CONDITIONS OF ANY KIND, either express or implied.\n",
    "* See the License for the specific language governing permissions and\n",
    "* limitations under the License.\n",
    "*\n",
    "*\n",
    "* This program prints the value of pi on the console.\n",
    "* Enter the command pi_value in console to run it.\n",
    "*\n",
    "**/\n",
    "#include <stdio.h>\n",
    "\n",
    "#define PI 3.14 // pi value constant\n",
    "\n",
    "int main(void){\n",
    "    /**\n",
    "    * Main function which prints value of pi\n",
    "    * as floating point.\n",
    "    *\n",
    "    * returns 0 when the program executes correctly.\n",
    "    */\n",
    "    printf(\"Value of pi: %f\", PI);\n",
    "    return 0;\n",
    "}"
   ]
  },
  {
   "cell_type": "markdown",
   "metadata": {},
   "source": [
    "## Data types\n",
    "We have 3 different data types: *integers*, *floats* and the *void*.\n",
    "\n",
    "### Integer types\n",
    "Integer types can be *signed* or *unsigned*. *Signed* integers have negative values and *unsigned* integers can have only positive values and the value of 0.\n",
    "\n",
    "Type | Size | Range \n",
    "---- | ---- | ---\n",
    "char | 1 B | -128 to 127\n",
    "unsigned char | 1 B | 0 to 255\n",
    "int | 2 or 4 B |\n",
    "unsigned int | 2 or 4 B |\n",
    "short | 2 B |\n",
    "unsigned short | 2 B |\n",
    "long | 4 B |\n",
    "unsigned long | 4 B |\n",
    "\n",
    "### Floating point types\n",
    "The most important thing to remember about floating point types is their precision.\n",
    "\n",
    "Type | Size | Precision\n",
    "---- | ---- | ---\n",
    "float | 4 B | 6 decimal places\n",
    "double | 8 B | 15 decimal places\n",
    "\n",
    "### Void type\n",
    "This special types is used when we want to specify there is no value available. \n"
   ]
  },
  {
   "cell_type": "markdown",
   "metadata": {},
   "source": [
    "## Special operators\n",
    "C provides two special operators `++` and `--`. First is called increment operator and the second is decrement operator. They are used to add or subtract `1` from the operand. So if we write `++a` this is equivalent to `a = a + 1`. But what if we write `a++`? Well, the syntax is definitelly correct, but the meaning is not the same. Let's look at the next program:"
   ]
  },
  {
   "cell_type": "code",
   "execution_count": null,
   "metadata": {},
   "outputs": [],
   "source": [
    "#include <stdio.h>\n",
    "int main(void){\n",
    "    int i = 4;\n",
    "    \n",
    "    printf(\"%d\\n\", i);\n",
    "    printf(\"%d\\n\", i++);\n",
    "    printf(\"%d\\n\", i);\n",
    "    return 0;\n",
    "}"
   ]
  },
  {
   "cell_type": "markdown",
   "metadata": {},
   "source": [
    "As you can see, the second value is still `4` despite using increment operator `++`. Operator after the operand is called **post-increment**. When we use the code `i++` we get the value of `i` and then we increment `i` by `1`. \n",
    "\n",
    "On the other hand the expression `++i` is called **pre-increment**. When we use it, `i` is first incremented. After that we get its new value. To demonstrate this run the following code."
   ]
  },
  {
   "cell_type": "code",
   "execution_count": null,
   "metadata": {},
   "outputs": [],
   "source": [
    "#include <stdio.h>\n",
    "int main(void){\n",
    "    int i = 4;\n",
    "    \n",
    "    printf(\"%d\\n\", i);\n",
    "    printf(\"%d\\n\", ++i);\n",
    "    printf(\"%d\\n\", i);\n",
    "    return 0;\n",
    "}"
   ]
  },
  {
   "cell_type": "markdown",
   "metadata": {},
   "source": [
    "## Special keywords\n",
    "### const\n",
    "This special keyword can be used to define constants. As you know constants can be also created with `#define` directive. `const` can be used to to declare constants with specific type, for example \n",
    "\n",
    "```\n",
    "const char NEWLINE = '\\n';\n",
    "```\n",
    "\n",
    "### static\n",
    "This keyword is used when we want a local variable in existence during the life-time of the program. Static variables maintain values between function calls.\n",
    "\n",
    "```\n",
    "static int i = 5 \n",
    "```\n"
   ]
  },
  {
   "cell_type": "markdown",
   "metadata": {},
   "source": [
    "## Conditionals\n",
    "We have 3 main conditional statements: *if..else*, *switch* and *?:* or *ternary operator*. "
   ]
  },
  {
   "cell_type": "markdown",
   "metadata": {},
   "source": [
    "### if else\n",
    "Basic structure for if..else statement is written bellow. Conditions are like `i == 5` or `i > 2` etc. With conditionals you define a block of code that will be executed if the condition is satified. "
   ]
  },
  {
   "cell_type": "raw",
   "metadata": {},
   "source": [
    "if( condition ){\n",
    "    \n",
    "    /* code */\n",
    "    \n",
    "} else if( condition ){\n",
    "    \n",
    "    /* code */\n",
    "    \n",
    "} else{\n",
    "\n",
    "    /* code */\n",
    "    \n",
    "}"
   ]
  },
  {
   "cell_type": "markdown",
   "metadata": {},
   "source": [
    "### switch"
   ]
  },
  {
   "cell_type": "raw",
   "metadata": {},
   "source": [
    "switch (expression){\n",
    "    case expression1:\n",
    "        /* code */\n",
    "        break;\n",
    "    case expression2:\n",
    "        /* code */\n",
    "        break;\n",
    "    ...\n",
    "    default:\n",
    "        /* default code */\n",
    "        break;\n",
    "}"
   ]
  },
  {
   "cell_type": "markdown",
   "metadata": {},
   "source": [
    "### ?:\n",
    "Ternary operator is a syntatic sugar because you can write *if..else* statement in one line. But I discourage its usage because it makes code unreadable. It is much harder to understand what it does. Its syntax is:"
   ]
  },
  {
   "cell_type": "raw",
   "metadata": {},
   "source": [
    "condition ? expression if true : expression if false"
   ]
  },
  {
   "cell_type": "markdown",
   "metadata": {},
   "source": [
    "## Loops\n",
    "We have 3 main loop types: *while loop*, *for loop*, and *do while loop*. The last is used very rarely.\n",
    "With loops we use `break` and `continue` statemets. The first is used to terminate the loop, and the second to skip the remainder of its body."
   ]
  },
  {
   "cell_type": "markdown",
   "metadata": {},
   "source": [
    "### while\n",
    "While loop is used when we what to repeat statements after the condition was tested. When the condition is false the loop returns."
   ]
  },
  {
   "cell_type": "raw",
   "metadata": {},
   "source": [
    "while( condition ){\n",
    "\n",
    "    /* statements */\n",
    "    \n",
    "}"
   ]
  },
  {
   "cell_type": "markdown",
   "metadata": {},
   "source": [
    "### do while\n",
    "Basically it is the opposite of while loop. With this loop, we first run the statements and only then whe check the condition."
   ]
  },
  {
   "cell_type": "raw",
   "metadata": {},
   "source": [
    "do{\n",
    "\n",
    "    /* statements */\n",
    "    \n",
    "} while ( condition );"
   ]
  },
  {
   "cell_type": "markdown",
   "metadata": {},
   "source": [
    "### for\n",
    "We use it when we want to repeat statements specific number of times. The init step is executed first and only once. Next, condition is evaluated and if true, the body of the loop is executed. After the body of the loop ends, increment statement follows. This statement allows you to update loop control variables."
   ]
  },
  {
   "cell_type": "raw",
   "metadata": {},
   "source": [
    "for ( init; condition; increment){\n",
    "    \n",
    "    /* statements */\n",
    "    \n",
    "}"
   ]
  },
  {
   "cell_type": "markdown",
   "metadata": {},
   "source": [
    "The most common error we can get when using this loop is with the `init` statement. This statement can be used differently in standard C90 and standard C99."
   ]
  },
  {
   "cell_type": "raw",
   "metadata": {},
   "source": [
    "// Will work in both standards\n",
    "int i;\n",
    "for(i=0; i<10; ++i){\n",
    "    print(\"%d\\n\",i);\n",
    "}"
   ]
  },
  {
   "cell_type": "raw",
   "metadata": {},
   "source": [
    "// Will work only in C99 and above\n",
    "for(int i=0; i<10; ++i){\n",
    "    print(\"%d\\n\",i);\n",
    "}"
   ]
  },
  {
   "cell_type": "markdown",
   "metadata": {},
   "source": [
    "## Functions"
   ]
  },
  {
   "cell_type": "markdown",
   "metadata": {},
   "source": [
    "A function is a group of statements that together perform a task. Function is defined in two ways: **a function declaration** and **a function definition**. First one tells the compiler about function's name return type and parameters. Second provides the body of the function. "
   ]
  },
  {
   "cell_type": "raw",
   "metadata": {},
   "source": [
    "// function declaration\n",
    "return_type function_name( parameters );"
   ]
  },
  {
   "cell_type": "raw",
   "metadata": {},
   "source": [
    "// function definition\n",
    "return_type function_name( parameters ){\n",
    "    /* function body */\n",
    "}"
   ]
  },
  {
   "cell_type": "markdown",
   "metadata": {},
   "source": [
    "So why do we have two similar definitions of functions? First of all, we must know that program is always executed from top to bottom (1st row then 2nd then 3rd and so on). Second, expression cannot be used if it wasn't declared before execution. So the following code will not work, because function is used before it is declared."
   ]
  },
  {
   "cell_type": "code",
   "execution_count": null,
   "metadata": {},
   "outputs": [],
   "source": [
    "#include <stdio.h>\n",
    "int main(void){\n",
    "    print_i_3_times();\n",
    "    return 0;\n",
    "}\n",
    "\n",
    "void print_i_3_times(void){\n",
    "    int i;\n",
    "    for(i=0; i<3; ++i){\n",
    "        printf(\"%d\\n\", i);\n",
    "    }\n",
    "}"
   ]
  },
  {
   "cell_type": "markdown",
   "metadata": {},
   "source": [
    "To solve this we have two options. First, we can put `print_i_3_times` function before `main`. Second, we use function declaration. "
   ]
  },
  {
   "cell_type": "code",
   "execution_count": 5,
   "metadata": {},
   "outputs": [
    {
     "ename": "SyntaxError",
     "evalue": "invalid syntax (<ipython-input-5-6a0285d86bc1>, line 1)",
     "output_type": "error",
     "traceback": [
      "\u001b[1;36m  File \u001b[1;32m\"<ipython-input-5-6a0285d86bc1>\"\u001b[1;36m, line \u001b[1;32m1\u001b[0m\n\u001b[1;33m    // First solution\u001b[0m\n\u001b[1;37m     ^\u001b[0m\n\u001b[1;31mSyntaxError\u001b[0m\u001b[1;31m:\u001b[0m invalid syntax\n"
     ]
    }
   ],
   "source": [
    "// First solution\n",
    "#include <stdio.h>\n",
    "void print_i_3_times(void){\n",
    "    int i;\n",
    "    for(i=0; i<3; ++i){\n",
    "        printf(\"%d\\n\", i);\n",
    "    }\n",
    "}\n",
    "\n",
    "int main(void){\n",
    "    print_i_3_times();\n",
    "    return 0;\n",
    "}"
   ]
  },
  {
   "cell_type": "code",
   "execution_count": null,
   "metadata": {},
   "outputs": [],
   "source": [
    "// Second solution\n",
    "#include <stdio.h>\n",
    "void print_i_3_times(void);\n",
    "\n",
    "int main(void){\n",
    "    print_i_3_times();\n",
    "    return 0;\n",
    "}\n",
    "\n",
    "void print_i_3_times(void){\n",
    "    int i;\n",
    "    for(i=0; i<3; ++i){\n",
    "        printf(\"%d\\n\", i);\n",
    "    }\n",
    "}"
   ]
  }
 ],
 "metadata": {
  "file_extension": ".py",
  "kernelspec": {
   "display_name": "Python 3",
   "language": "python",
   "name": "python3"
  },
  "language_info": {
   "codemirror_mode": {
    "name": "ipython",
    "version": 3
   },
   "file_extension": ".py",
   "mimetype": "text/x-python",
   "name": "python",
   "nbconvert_exporter": "python",
   "pygments_lexer": "ipython3",
   "version": "3.6.8"
  },
  "mimetype": "text/x-python",
  "name": "python",
  "npconvert_exporter": "python",
  "pygments_lexer": "ipython3",
  "version": 3
 },
 "nbformat": 4,
 "nbformat_minor": 2
}
