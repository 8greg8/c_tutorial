{
 "cells": [
  {
   "cell_type": "markdown",
   "metadata": {},
   "source": [
    "# Interactive C Tutorial (Part III)"
   ]
  },
  {
   "cell_type": "markdown",
   "metadata": {},
   "source": [
    "## Websites\n",
    "\n",
    "### Library references:\n",
    "[http://www.cplusplus.com/reference/](http://www.cplusplus.com/reference/)\n",
    "\n",
    "[https://en.cppreference.com/w/c](https://en.cppreference.com/w/c)\n",
    "\n",
    "\n",
    "### Good sites for additional learning\n",
    "[https://www.cprogramming.com/](https://www.cprogramming.com/)\n",
    "\n",
    "[https://www.learncpp.com/](https://www.learncpp.com/)\n",
    "\n",
    "[https://www.eskimo.com/~scs/cclass/notes/top.html](https://www.eskimo.com/~scs/cclass/notes/top.html)\n",
    "\n",
    "\n",
    "### Practice:\n",
    "[https://projecteuler.net/archives](https://projecteuler.net/archives)\n",
    "\n",
    "\n",
    "### Online C:\n",
    "[https://www.tutorialspoint.com/online_c_compiler.php](https://www.tutorialspoint.com/online_c_compiler.php)\n",
    "\n",
    "[https://github.com/brendan-rius/jupyter-c-kernel](https://github.com/brendan-rius/jupyter-c-kernel)\n",
    "\n",
    "### IDEs:\n",
    " 1. Visual Studio Code\n",
    " 2. NetBeans\n",
    " 3. Code::Blocks\n",
    " 4. Eclipse\n",
    "\n",
    "### GCC Compilers for Windows\n",
    "Cygwin\n",
    "MinGW\n"
   ]
  },
  {
   "cell_type": "markdown",
   "metadata": {},
   "source": [
    "## Mini project\n",
    "Write a program that prints fibonacci sequence (0, 1, 1, 2, 3, 5, 8, 13, 21, ...) with the following restrictions:\n",
    " 1. Write in C\n",
    " 2. Sequence must be printed in one line\n",
    " 3. For calculating the sequence you must use next function declaration `int* fibonacci(const int count);`\n",
    " 4. You define the number of elements of a sequence (`count`).\n",
    " \n",
    "Additional restrictions for non-interactive mode:\n",
    " 5. Number of elements must be an input parameter to your program.\n",
    " 6. Function `fibonacci` must be written in its own source file. \n",
    " 7. To use the function you must include it with a header."
   ]
  },
  {
   "cell_type": "code",
   "execution_count": null,
   "metadata": {},
   "outputs": [],
   "source": []
  }
 ],
 "metadata": {
  "kernelspec": {
   "display_name": "Python 3",
   "language": "python",
   "name": "python3"
  },
  "language_info": {
   "codemirror_mode": {
    "name": "ipython",
    "version": 3
   },
   "file_extension": ".py",
   "mimetype": "text/x-python",
   "name": "python",
   "nbconvert_exporter": "python",
   "pygments_lexer": "ipython3",
   "version": "3.6.8"
  }
 },
 "nbformat": 4,
 "nbformat_minor": 2
}
