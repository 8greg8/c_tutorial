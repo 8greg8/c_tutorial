{
 "cells": [
  {
   "cell_type": "markdown",
   "metadata": {},
   "source": [
    "# Interactive C Tutorial (Part II)"
   ]
  },
  {
   "cell_type": "markdown",
   "metadata": {},
   "source": [
    "## Introduction to pointers\n",
    "Some say that pointers are one of the hardest thing to learn in C. But if you understand them, they can be really fun. You can do magic with them. To start learning them, we need basic knowledge about memory. So, we have a program with many variables and they all have some value. The values are saved in memory. We can think of the memory as a dock with containers. Each container has an ID or address and each value is stored in one of the containers. To go back to our program, each variable can be seen as container of a value and that container has an address. To get an address of a container we use special operator `&`."
   ]
  },
  {
   "cell_type": "code",
   "execution_count": 1,
   "metadata": {},
   "outputs": [
    {
     "name": "stdout",
     "output_type": "stream",
     "text": [
      "Address of a: 0x7ffd4e456e30\n",
      "Address of b: 0x7ffd4e456e35\n"
     ]
    }
   ],
   "source": [
    "#include <stdio.h>\n",
    "int main(){\n",
    "    int a;\n",
    "    char b[3];\n",
    "    \n",
    "    printf(\"Address of a: %p\\n\", &a);\n",
    "    printf(\"Address of b: %p\\n\", &b);\n",
    "    return 0;\n",
    "}"
   ]
  },
  {
   "cell_type": "markdown",
   "metadata": {},
   "source": [
    "To complicate things a bit, we can have a variable that contains an address of another variable. This variable is so called *pointer*. Because it is special, it has a special declaration too. The type of the pointer is the type of the value saved in the address. "
   ]
  },
  {
   "cell_type": "raw",
   "metadata": {},
   "source": [
    "type *pointer_name;"
   ]
  },
  {
   "cell_type": "markdown",
   "metadata": {},
   "source": [
    "Pointers are then used as normal variables with one distinct exception. We can get the value of the address that our pointer contains. This is done by the so called *dereferencing*. To dereference a pointer we use an operator `*`, the same operator that was used to define our pointer."
   ]
  },
  {
   "cell_type": "raw",
   "metadata": {},
   "source": [
    "*pointer_name; // dereferencing the pointer"
   ]
  },
  {
   "cell_type": "markdown",
   "metadata": {},
   "source": [
    "To summarize what we have learned, run the following code"
   ]
  },
  {
   "cell_type": "code",
   "execution_count": 2,
   "metadata": {},
   "outputs": [
    {
     "name": "stdout",
     "output_type": "stream",
     "text": [
      "Address of a variable: 0x7ffdce763d2c\n",
      "Address stored in p variable: 0x7ffdce763d2c\n",
      "Value of *p variable: 3\n"
     ]
    }
   ],
   "source": [
    "#include <stdio.h>\n",
    "int main () {\n",
    "\n",
    "   int  a = 3;   // actual variable declaration\n",
    "   int  *p;      // pointer variable declaration\n",
    "\n",
    "   p = &a;  // store the address of a in pointer variable\n",
    "\n",
    "   printf(\"Address of a variable: %p\\n\", &a);\n",
    "   printf(\"Address stored in p variable: %p\\n\", p );\n",
    "   printf(\"Value of *p variable: %d\\n\", *p );\n",
    "\n",
    "   return 0;\n",
    "}"
   ]
  },
  {
   "cell_type": "markdown",
   "metadata": {},
   "source": [
    "## Arrays\n",
    "Array is a data structure that can store a fixed number of elements of the same type. All arrays consist of contiguous memmory locations. First element has the lowest address and the last element has the highest address.\n",
    "\n",
    "To declare an array, we must specify the type of the elements and the number of elements required."
   ]
  },
  {
   "cell_type": "raw",
   "metadata": {},
   "source": [
    "type array_name [ array_size ];"
   ]
  },
  {
   "cell_type": "markdown",
   "metadata": {},
   "source": [
    "We can also use the following syntaxes."
   ]
  },
  {
   "cell_type": "raw",
   "metadata": {},
   "source": [
    "type array_name[3] = {element1, element2, element3};\n",
    "type array_name[] = {element1, element2, element3};\n",
    "type array_name[3] = {};"
   ]
  },
  {
   "cell_type": "markdown",
   "metadata": {},
   "source": [
    "Multidimensional arrays can be defined by"
   ]
  },
  {
   "cell_type": "raw",
   "metadata": {},
   "source": [
    "type array_name [ x ][ y ];"
   ]
  },
  {
   "cell_type": "markdown",
   "metadata": {},
   "source": [
    "## Compile-time and runtime\n",
    "When we compile our source code into byte code, that our computer understands, we are talking about *a compile-time*. When the program is running we are talking about *a runtime*. These two timings are important when we are talking about arrays and pointers. As we will see later, pointers can be statically or dynamically allocated in memory. To better understand this we will firstly experiment with arrays.\n",
    "\n",
    "As we previously talked about, arrays can store only a fixed number of elements. To declare an array we must specify also the number of elements that are required. But this declaration can be done only in compile-time. So we cannot change the length of an array when program is running. See the following two examples. In the first example we define the length of an array at runtime and in the second at compile-time."
   ]
  },
  {
   "cell_type": "code",
   "execution_count": 3,
   "metadata": {},
   "outputs": [
    {
     "name": "stderr",
     "output_type": "stream",
     "text": [
      "[C kernel] Executable exited with code -11"
     ]
    }
   ],
   "source": [
    "#include<stdio.h>\n",
    "#include<stdlib.h>\n",
    "\n",
    "int main(int argc, char **argv)\n",
    "{\n",
    "    int size = atoi(argv[1]);\n",
    "    char array[size];\n",
    "    printf(\"Size of an array: %d\", (int)(sizeof(array)/sizeof(char)));\n",
    "    return 0;\n",
    "}"
   ]
  },
  {
   "cell_type": "code",
   "execution_count": 4,
   "metadata": {},
   "outputs": [
    {
     "name": "stdout",
     "output_type": "stream",
     "text": [
      "Size of an array: 5"
     ]
    }
   ],
   "source": [
    "#include<stdio.h>\n",
    "\n",
    "int main()\n",
    "{\n",
    "    const int size = 5;\n",
    "    char array[size];\n",
    "    printf(\"Size of an array: %d\", (int)(sizeof(array)/sizeof(char)));\n",
    "    return 0;\n",
    "}"
   ]
  },
  {
   "cell_type": "markdown",
   "metadata": {},
   "source": [
    "## Relation between pointers and arrays\n",
    "We know that arrays store fixed number of elements of the same type. To get the value of the N-th element we write `array[N]`. We have also learned that using `&` we can get a physical address of a value. Same goes with arrays."
   ]
  },
  {
   "cell_type": "code",
   "execution_count": 5,
   "metadata": {},
   "outputs": [
    {
     "name": "stdout",
     "output_type": "stream",
     "text": [
      "&x[0] = 0x7fff9fbd48f0\n",
      "&x[1] = 0x7fff9fbd48f4\n",
      "&x[2] = 0x7fff9fbd48f8\n",
      "&x[3] = 0x7fff9fbd48fc\n",
      "x = 0x7fff9fbd48f0\n",
      "x[0]: 0\t*x; 0"
     ]
    }
   ],
   "source": [
    "#include <stdio.h>\n",
    "int main()\n",
    "{\n",
    "    int x[4];\n",
    "    int i;\n",
    "\n",
    "    for(i = 0; i < 4; ++i)\n",
    "    {\n",
    "        printf(\"&x[%d] = %p\\n\", i, &x[i]);\n",
    "    }\n",
    "\n",
    "    printf(\"x = %p\\n\", x);\n",
    "    printf(\"x[0]: %d\\t*x; %d\", x[0], *x);\n",
    "\n",
    "   return 0;\n",
    "}"
   ]
  },
  {
   "cell_type": "markdown",
   "metadata": {},
   "source": [
    "Note, how printing `&x[0]` and `x` gave us the same result. So, `x` contains an address, therefore, it is a pointer. Furthermore, we can say that getting the value by `x[0]` is equivalent to dereferencing the pointer `*x`. But be carefull! You cannot modify the address of an array."
   ]
  },
  {
   "cell_type": "code",
   "execution_count": 6,
   "metadata": {},
   "outputs": [
    {
     "name": "stderr",
     "output_type": "stream",
     "text": [
      "/tmp/tmpfkez27ds.c: In function ‘main’:\n",
      "/tmp/tmpfkez27ds.c:6:7: error: assignment to expression with array type\n",
      "     x = p;\n",
      "       ^\n",
      "[C kernel] GCC exited with code 1, the executable will not be executed"
     ]
    }
   ],
   "source": [
    "#include <stdio.h>\n",
    "int main()\n",
    "{\n",
    "    int x[4];\n",
    "    int* p;\n",
    "    x = p;\n",
    "    printf(\"x = %p\\n\", x);\n",
    "\n",
    "   return 0;\n",
    "}"
   ]
  },
  {
   "cell_type": "code",
   "execution_count": 7,
   "metadata": {},
   "outputs": [
    {
     "name": "stderr",
     "output_type": "stream",
     "text": [
      "/tmp/tmpsrwph6_g.c: In function ‘main’:\n",
      "/tmp/tmpsrwph6_g.c:5:25: error: lvalue required as increment operand\n",
      "     printf(\"x = %p\\n\", x++);\n",
      "                         ^~\n",
      "[C kernel] GCC exited with code 1, the executable will not be executed"
     ]
    }
   ],
   "source": [
    "#include <stdio.h>\n",
    "int main()\n",
    "{\n",
    "    int x[4];\n",
    "    printf(\"x = %p\\n\", x++);\n",
    "\n",
    "   return 0;\n",
    "}"
   ]
  },
  {
   "cell_type": "markdown",
   "metadata": {},
   "source": [
    "## Pointer arithmetic\n",
    "Now, because pointers contain an address, which is a number, we can do arithmetic on that values. Remember that pointers can be considered as other variables when we don't dereference them. Only their content is different.\n",
    "\n",
    "Let us look first how we can use addition with combination to dereferencing (same goes with subtraction)."
   ]
  },
  {
   "cell_type": "code",
   "execution_count": 8,
   "metadata": {},
   "outputs": [
    {
     "name": "stdout",
     "output_type": "stream",
     "text": [
      "Address: 0x7ffdb347642c\tValue: 1\n",
      "Address: 0x7ffdb3476434\tValue: 3\n",
      "Address: 0x7ffdb3476434\tValue: 3\n"
     ]
    }
   ],
   "source": [
    "#include <stdio.h>\n",
    "int main(){\n",
    "    int x[3] = {1, 2, 3};\n",
    "    printf(\"Address: %p\\tValue: %d\\n\", x, *x);\n",
    "    printf(\"Address: %p\\tValue: %d\\n\", x + 2, *x + 2);\n",
    "    printf(\"Address: %p\\tValue: %d\\n\", x + 2, *(x + 2));\n",
    "    return 0;\n",
    "}"
   ]
  },
  {
   "cell_type": "markdown",
   "metadata": {},
   "source": [
    "Next we look at using combinations of pre-increment, post-increment on pointers"
   ]
  },
  {
   "cell_type": "code",
   "execution_count": 9,
   "metadata": {},
   "outputs": [
    {
     "name": "stdout",
     "output_type": "stream",
     "text": [
      "Original\n",
      "normal Address: 0x7ffc9c764bac\tValue: 1\n",
      "\n",
      "Post increment address\n",
      "on:\t0x7ffc9c764bac\n",
      "after:\t0x7ffc9c764bb0\n",
      "\n",
      "Pre increment address\n",
      "on:\t0x7ffc9c764bb0\n",
      "after:\t0x7ffc9c764bb0\n",
      "\n"
     ]
    }
   ],
   "source": [
    "#include <stdio.h>\n",
    "int main(){\n",
    "    int x[3] = {1, 2, 3};\n",
    "    int* ptr = x;\n",
    "    printf(\"Original\\n\");\n",
    "    printf(\"normal Address: %p\\tValue: %d\\n\\n\", ptr, *ptr);\n",
    "    \n",
    "    printf(\"Post increment address\\n\");\n",
    "    printf(\"on:\\t%p\\n\", ptr++);\n",
    "    printf(\"after:\\t%p\\n\\n\",ptr);\n",
    "    --ptr; // Beacuse we don't use the output value, ptr-- is also correct.\n",
    "    \n",
    "    printf(\"Pre increment address\\n\");\n",
    "    printf(\"on:\\t%p\\n\", ++ptr); \n",
    "    printf(\"after:\\t%p\\n\\n\",ptr);\n",
    "    --ptr;\n",
    "    return 0;\n",
    "}"
   ]
  },
  {
   "cell_type": "markdown",
   "metadata": {},
   "source": [
    "Now we look at pre and post-increment combinations with dereferencing."
   ]
  },
  {
   "cell_type": "code",
   "execution_count": 10,
   "metadata": {},
   "outputs": [
    {
     "name": "stdout",
     "output_type": "stream",
     "text": [
      "Original\n",
      "normal Address: 0x7ffd2867327c\tValue: 1\n",
      "\n",
      "Post increment value\n",
      "on:\t1\n",
      "after:\t2\n",
      "on:\t1\n",
      "after:\t2\n",
      "on:\t1\n",
      "after:\t2\n",
      "\n",
      "Pre increment value\n",
      "on:\t2\n",
      "after:\t2\n",
      "on:\t2\n",
      "after:\t2\n",
      "on:\t2\n",
      "after:\t3\n"
     ]
    }
   ],
   "source": [
    "#include <stdio.h>\n",
    "int main(){\n",
    "    int x[3] = {1, 2, 3};\n",
    "    int* ptr = x;\n",
    "    printf(\"Original\\n\");\n",
    "    printf(\"normal Address: %p\\tValue: %d\\n\\n\", ptr, *ptr);\n",
    "    \n",
    "    printf(\"Post increment value\\n\");\n",
    "    printf(\"on:\\t%d\\n\", *ptr++);\n",
    "    printf(\"after:\\t%d\\n\", *ptr);\n",
    "    --ptr; // Beacuse we don't use the output value, ptr-- is also correct.\n",
    "    \n",
    "    printf(\"on:\\t%d\\n\", *(ptr++));\n",
    "    printf(\"after:\\t%d\\n\", *ptr);\n",
    "    --ptr;\n",
    "    \n",
    "    printf(\"on:\\t%d\\n\", (*ptr)++);\n",
    "    printf(\"after:\\t%d\\n\\n\", *ptr);\n",
    "    \n",
    "    printf(\"Pre increment value\\n\");\n",
    "    printf(\"on:\\t%d\\n\", *++ptr);\n",
    "    printf(\"after:\\t%d\\n\", *ptr);\n",
    "    --ptr;\n",
    "    \n",
    "    printf(\"on:\\t%d\\n\", *(ptr++));\n",
    "    printf(\"after:\\t%d\\n\", *ptr);\n",
    "    --ptr;\n",
    "    \n",
    "    printf(\"on:\\t%d\\n\", (*ptr)++);\n",
    "    printf(\"after:\\t%d\\n\", *ptr);\n",
    "    return 0;\n",
    "}"
   ]
  },
  {
   "cell_type": "markdown",
   "metadata": {},
   "source": [
    "So we can see the following relations are true:\n",
    " - `*x++ == *(x++)`\n",
    " - `*++x == *(++x)`\n",
    " \n",
    "To remember the relations, **just put the variable `x` and the first operator looking from the right into the parathenses.**"
   ]
  },
  {
   "cell_type": "markdown",
   "metadata": {},
   "source": [
    "### C strings\n",
    "Strings can be defined in two ways:\n",
    " 1. `char *ptr = \"Hello!\";`\n",
    " 2. `char array[] = \"Hello!\";`\n",
    " \n",
    "Lets try to change `e` to `a` in both cases."
   ]
  },
  {
   "cell_type": "code",
   "execution_count": 11,
   "metadata": {},
   "outputs": [
    {
     "name": "stderr",
     "output_type": "stream",
     "text": [
      "[C kernel] Executable exited with code -11"
     ]
    }
   ],
   "source": [
    "#include <stdio.h>\n",
    "int main(){\n",
    "    char *ptr = \"Hello!\";\n",
    "    *(ptr + 1) = 'a';\n",
    "    printf(\"New string: %s\", ptr);\n",
    "    return 0;\n",
    "}"
   ]
  },
  {
   "cell_type": "code",
   "execution_count": 12,
   "metadata": {},
   "outputs": [
    {
     "name": "stdout",
     "output_type": "stream",
     "text": [
      "New string: Hallo!"
     ]
    }
   ],
   "source": [
    "#include <stdio.h>\n",
    "int main(){\n",
    "    char array[] = \"Hello!\";\n",
    "    *(array + 1) = 'a';\n",
    "    printf(\"New string: %s\", array);\n",
    "    return 0;\n",
    "}"
   ]
  },
  {
   "cell_type": "markdown",
   "metadata": {},
   "source": [
    "Beacuse arrays are similar to pointers, someone would argue that both declarations are equivalent. But this is not the case. In C we have **string literals**. They are a sequence of characters surrounded by double quotes. They are always stored at *read-only memory*. This memory cannot be modified. \n",
    "\n",
    "In the first case we make a pointer that points to the memory location of the string literal. When we want to change it, we get memory access violation.\n",
    "\n",
    "In th second case array allocates memory and copies string literal into it. Therefore, we can modify our string. The second case is equivalent to writing\n",
    "\n",
    "`char array[] = {'H', 'e', 'l', 'l', 'o', '\\0'}`"
   ]
  },
  {
   "cell_type": "markdown",
   "metadata": {},
   "source": [
    "## Special pointers (const pointer, void pointer, null pointer, pointer to pointer)\n",
    "### Constant pointer\n",
    "Constant pointers cannot change the address they are pointing to. Read the syntax from right to left.\n",
    "\n",
    "`int *const ptr`\n",
    "\n",
    "### Pointer to constant\n",
    "Pointers to constant cannot change the value of the variable they are pointing to. Read the syntax from right to left.\n",
    "\n",
    "`const int* ptr`\n",
    "\n",
    "### Void pointer\n",
    "This are generic pointers that can point to any data type. Because the pointer doesn't know about the type, it must be explicitly cast to another pointer before dereferencing.\n",
    "\n",
    "`void *ptr`\n",
    "\n",
    "### Null pointer\n",
    "When we declare a pointer its default value is some random memory address. To overcome this we can declare it by:\n",
    "\n",
    "```\n",
    "type* ptr = 0\n",
    "type* ptr = NULL\n",
    "```\n",
    "\n",
    "`NULL` is a macro defined as `((void *)0)`. NULL pointer basically doesn't have an address.\n",
    "\n",
    "Declaring some pointer as NULL is also a good practice, when we delete a pointer which we don't want to use anymore. With NULL declaration we don't accidentally change the same \n",
    "\n",
    "### Pointer to pointer\n",
    "We can assign pointer to pointer. Such pointer has an address of another pointer.\n",
    "\n",
    "`type** pointer`\n"
   ]
  },
  {
   "cell_type": "markdown",
   "metadata": {},
   "source": [
    "## Static pointer vs Dynamic pointer\n",
    "Static and dynamic pointer is just another naming for compile-time and runtime pointer. The concepts are identical to to the ones we discussed with arrays. Compile-time pointers have a fixed value and cannot be changed when the program is run. On the other hand, runtime pointers can be changed when running the code. \n",
    "\n",
    "To look at the concepts a little bit deeper, we have basically 3 parts of memory for any program. The first part is **static memory**, where global variables and static variables are stored. The socond part is called **the stack**. It is used for function calling and local variables. It can grow and shrink. The last one is **the heap**. It is a large pool of memory that can be used dynamically (on runtime). \n",
    "\n",
    "If we define a pointer by `type* ptr = &var` then this pointer will be static pointer. To define a dynamic pointer we use `void* malloc(size_t size)` function where we need to define the `size` of our pointer. \n",
    "\n",
    "`int* ptr = (int*) malloc( sizeof(int) );`\n",
    "\n",
    "**Warning!** Every dynamic pointer must be freed when we stop using it or we will have *a memory leak*. Memory leak is basically a memory that we don't have the access to anymore. Too free up the pointer we use the function `void free(void* ptr)`. Bellow is an example of producing memory leak"
   ]
  },
  {
   "cell_type": "code",
   "execution_count": null,
   "metadata": {},
   "outputs": [],
   "source": [
    "#include <stdlib.h>\n",
    "\n",
    "void memory_leak(void) {\n",
    "    \n",
    "    int *array = malloc(sizeof(int) * 3);\n",
    "    /* \n",
    "    return to main   \n",
    "    forgot to free the memory\n",
    "    */\n",
    "}\n",
    "\n",
    "int main(void) {\n",
    "    memory_leak();\n",
    "\n",
    "    /* \n",
    "    the pointer 'array' no longer exists\n",
    "    it cannot be freed, but the memory is still allocated\n",
    "     */\n",
    "}"
   ]
  }
 ],
 "metadata": {
  "kernelspec": {
   "display_name": "Python 3",
   "language": "python",
   "name": "python3"
  },
  "language_info": {
   "codemirror_mode": {
    "name": "ipython",
    "version": 3
   },
   "file_extension": ".py",
   "mimetype": "text/x-python",
   "name": "python",
   "nbconvert_exporter": "python",
   "pygments_lexer": "ipython3",
   "version": "3.6.8"
  }
 },
 "nbformat": 4,
 "nbformat_minor": 2
}
