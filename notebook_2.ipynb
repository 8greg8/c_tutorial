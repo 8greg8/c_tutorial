{
 "cells": [
  {
   "cell_type": "markdown",
   "metadata": {},
   "source": [
    "# Interactive C Tutorial (Part II)"
   ]
  },
  {
   "cell_type": "markdown",
   "metadata": {},
   "source": [
    "## Arrays\n",
    "Array is a data structure that can store a fixed number of elements of the same type. All arrays consist of contiguous memmory locations. First element has the lowest address and the last element has the highest address.\n",
    "\n",
    "To declare an array, we must specify the type of the elements and the number of elements required."
   ]
  },
  {
   "cell_type": "raw",
   "metadata": {},
   "source": [
    "type array_name [ array_size ];"
   ]
  },
  {
   "cell_type": "markdown",
   "metadata": {},
   "source": [
    "We can also use the following syntax:"
   ]
  },
  {
   "cell_type": "raw",
   "metadata": {},
   "source": [
    "type array_name[] = {element1, element2, element3 ...};"
   ]
  },
  {
   "cell_type": "markdown",
   "metadata": {},
   "source": [
    "Multidimensional arrays can also be defined"
   ]
  },
  {
   "cell_type": "raw",
   "metadata": {},
   "source": [
    "type array_name [ x ][ y ];"
   ]
  },
  {
   "cell_type": "markdown",
   "metadata": {},
   "source": [
    "## Pointers\n",
    "Some say that pointers are one of the hardest thing to learn in C. But if you understand them, they can be really fun. You can do magic with them. To start learning them, we need basic knowledge about memory. So, we have a program with many variables and they all have some value. The values are saved in memory. We can think of the memory as a dock with containers. Each container has an ID or address and each value is stored in one of the containers. To go back to our program, each variable can be seen as container of a value and that container has an address. To get an address of a container we use special operator `&`."
   ]
  },
  {
   "cell_type": "code",
   "execution_count": null,
   "metadata": {},
   "outputs": [],
   "source": [
    "#include <stdio.h>\n",
    "int main(){\n",
    "    int a;\n",
    "    char b[3];\n",
    "    \n",
    "    printf(\"Address of a: %x\\n\", &a);\n",
    "    printf(\"Address of b: %x\\n\", &b);\n",
    "    return 0;\n",
    "}"
   ]
  },
  {
   "cell_type": "markdown",
   "metadata": {},
   "source": [
    "To complicate things a bit, we can have a variable that contains an address of another variable. This variable is so called *pointer*. Because it is special, it has a special declaration too. The type of the pointer is the type of the value saved in the address. "
   ]
  },
  {
   "cell_type": "raw",
   "metadata": {},
   "source": [
    "type *pointer_name;"
   ]
  },
  {
   "cell_type": "markdown",
   "metadata": {},
   "source": [
    "Pointers are then used as normal variables with one distinct exception. We can get the value of the address that our pointer contains. This is done by the so called *dereferencing*. To dereference a pointer we use an operator `*`, the same operator that was used to define our pointer."
   ]
  },
  {
   "cell_type": "raw",
   "metadata": {},
   "source": [
    "*pointer_name; // dereferencing the pointer"
   ]
  },
  {
   "cell_type": "markdown",
   "metadata": {},
   "source": [
    "To summarize what we have learned, run the following code"
   ]
  },
  {
   "cell_type": "code",
   "execution_count": null,
   "metadata": {},
   "outputs": [],
   "source": [
    "#include <stdio.h>\n",
    "int main () {\n",
    "\n",
    "   int  a = 3;   // actual variable declaration\n",
    "   int  *p;      // pointer variable declaration\n",
    "\n",
    "   p = &a;  // store the address of a in pointer variable\n",
    "\n",
    "   printf(\"Address of a variable: %x\\n\", &a);\n",
    "   printf(\"Address stored in p variable: %x\\n\", p );\n",
    "   printf(\"Value of *p variable: %d\\n\", *p );\n",
    "\n",
    "   return 0;\n",
    "}"
   ]
  },
  {
   "cell_type": "markdown",
   "metadata": {},
   "source": [
    "### Pointer arithmetic\n"
   ]
  },
  {
   "cell_type": "markdown",
   "metadata": {},
   "source": [
    "### Array of pointers"
   ]
  },
  {
   "cell_type": "markdown",
   "metadata": {},
   "source": [
    "### Pointers and arrays"
   ]
  },
  {
   "cell_type": "markdown",
   "metadata": {},
   "source": [
    "### Pointer to pointer"
   ]
  },
  {
   "cell_type": "markdown",
   "metadata": {},
   "source": [
    "### Pointers and functions"
   ]
  },
  {
   "cell_type": "markdown",
   "metadata": {},
   "source": [
    "### Special pointers (const pointer, void pointer, null pointer)"
   ]
  },
  {
   "cell_type": "markdown",
   "metadata": {},
   "source": [
    "### Static pointer vs Dynamic pointer"
   ]
  },
  {
   "cell_type": "markdown",
   "metadata": {},
   "source": [
    "## Memory management"
   ]
  },
  {
   "cell_type": "markdown",
   "metadata": {},
   "source": [
    "## Strings"
   ]
  },
  {
   "cell_type": "markdown",
   "metadata": {},
   "source": [
    "## Structures"
   ]
  },
  {
   "cell_type": "markdown",
   "metadata": {},
   "source": [
    "## Command line arguments"
   ]
  },
  {
   "cell_type": "markdown",
   "metadata": {},
   "source": []
  }
 ],
 "metadata": {
  "kernelspec": {
   "display_name": "Python 3",
   "language": "python",
   "name": "python3"
  },
  "language_info": {
   "codemirror_mode": {
    "name": "ipython",
    "version": 3
   },
   "file_extension": ".py",
   "mimetype": "text/x-python",
   "name": "python",
   "nbconvert_exporter": "python",
   "pygments_lexer": "ipython3",
   "version": "3.6.8"
  }
 },
 "nbformat": 4,
 "nbformat_minor": 2
}
