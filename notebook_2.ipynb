{
 "cells": [
  {
   "cell_type": "markdown",
   "metadata": {},
   "source": [
    "# Interactive C Tutorial (Part II)"
   ]
  },
  {
   "cell_type": "markdown",
   "metadata": {},
   "source": [
    "## Introduction to pointers\n",
    "Some say that pointers are one of the hardest thing to learn in C. But if you understand them, they can be really fun. You can do magic with them. To start learning them, we need basic knowledge about memory. So, we have a program with many variables and they all have some value. The values are saved in memory. We can think of the memory as a dock with containers. Each container has an ID or address and each value is stored in one of the containers. To go back to our program, each variable can be seen as container of a value and that container has an address. To get an address of a container we use special operator `&`."
   ]
  },
  {
   "cell_type": "code",
   "execution_count": null,
   "metadata": {},
   "outputs": [],
   "source": [
    "#include <stdio.h>\n",
    "int main(){\n",
    "    int a;\n",
    "    char b[3];\n",
    "    \n",
    "    printf(\"Address of a: %x\\n\", &a);\n",
    "    printf(\"Address of b: %x\\n\", &b);\n",
    "    return 0;\n",
    "}"
   ]
  },
  {
   "cell_type": "markdown",
   "metadata": {},
   "source": [
    "To complicate things a bit, we can have a variable that contains an address of another variable. This variable is so called *pointer*. Because it is special, it has a special declaration too. The type of the pointer is the type of the value saved in the address. "
   ]
  },
  {
   "cell_type": "raw",
   "metadata": {},
   "source": [
    "type *pointer_name;"
   ]
  },
  {
   "cell_type": "markdown",
   "metadata": {},
   "source": [
    "Pointers are then used as normal variables with one distinct exception. We can get the value of the address that our pointer contains. This is done by the so called *dereferencing*. To dereference a pointer we use an operator `*`, the same operator that was used to define our pointer."
   ]
  },
  {
   "cell_type": "raw",
   "metadata": {},
   "source": [
    "*pointer_name; // dereferencing the pointer"
   ]
  },
  {
   "cell_type": "markdown",
   "metadata": {},
   "source": [
    "To summarize what we have learned, run the following code"
   ]
  },
  {
   "cell_type": "code",
   "execution_count": null,
   "metadata": {},
   "outputs": [],
   "source": [
    "#include <stdio.h>\n",
    "int main () {\n",
    "\n",
    "   int  a = 3;   // actual variable declaration\n",
    "   int  *p;      // pointer variable declaration\n",
    "\n",
    "   p = &a;  // store the address of a in pointer variable\n",
    "\n",
    "   printf(\"Address of a variable: %x\\n\", &a);\n",
    "   printf(\"Address stored in p variable: %x\\n\", p );\n",
    "   printf(\"Value of *p variable: %d\\n\", *p );\n",
    "\n",
    "   return 0;\n",
    "}"
   ]
  },
  {
   "cell_type": "markdown",
   "metadata": {},
   "source": [
    "## Arrays\n",
    "Array is a data structure that can store a fixed number of elements of the same type. All arrays consist of contiguous memmory locations. First element has the lowest address and the last element has the highest address.\n",
    "\n",
    "To declare an array, we must specify the type of the elements and the number of elements required."
   ]
  },
  {
   "cell_type": "raw",
   "metadata": {},
   "source": [
    "type array_name [ array_size ];"
   ]
  },
  {
   "cell_type": "markdown",
   "metadata": {},
   "source": [
    "We can also use the following syntaxes."
   ]
  },
  {
   "cell_type": "raw",
   "metadata": {},
   "source": [
    "type array_name[3] = {element1, element2, element3};\n",
    "type array_name[] = {element1, element2, element3};\n",
    "type array_name[3] = {};"
   ]
  },
  {
   "cell_type": "markdown",
   "metadata": {},
   "source": [
    "Multidimensional arrays can be defined by"
   ]
  },
  {
   "cell_type": "raw",
   "metadata": {},
   "source": [
    "type array_name [ x ][ y ];"
   ]
  },
  {
   "cell_type": "markdown",
   "metadata": {},
   "source": [
    "## Compile-time and runtime\n",
    "When we compile our source code into byte code, that our computer understands, we are talking about *a compile-time*. When the program is running we are talking about *a runtime*. These two timings are important when we are talking about arrays and pointers. As we will see later, pointers can be statically or dynamically allocated in memory. To better understand this we will firstly experiment with arrays.\n",
    "\n",
    "As we previously talked about, arrays can store only a fixed number of elements. To declare an array we must specify also the number of elements that are required. But this declaration can be done only in compile-time. So we cannot change the length of an array when program is running. See the following two examples. In the first example we define the length of an array at runtime and in the second at compile-time."
   ]
  },
  {
   "cell_type": "code",
   "execution_count": null,
   "metadata": {},
   "outputs": [],
   "source": [
    "#include<stdio.h>\n",
    "\n",
    "char *input_string=\"25\";  //<-----input value\n",
    "\n",
    "int main()\n",
    "{\n",
    "    int size;\n",
    "    printf(\"Input the size of an array:\");\n",
    "    sscanf(input_string, \"%d\", &size); // <-----\n",
    "    char array[size];\n",
    "    printf(\"Size of an array: %d\", sizeof(array)/sizeof(char));\n",
    "    return 0;\n",
    "}"
   ]
  },
  {
   "cell_type": "code",
   "execution_count": null,
   "metadata": {},
   "outputs": [],
   "source": [
    "#include<stdio.h>\n",
    "\n",
    "int main()\n",
    "{\n",
    "    const int size = 5;\n",
    "    char array[size];\n",
    "    printf(\"Size of an array: %d\", sizeof(array)/sizeof(char));\n",
    "    return 0;\n",
    "}"
   ]
  },
  {
   "cell_type": "markdown",
   "metadata": {},
   "source": [
    "## Relation between pointers and arrays\n",
    "We know that arrays store fixed number of elements of the same type. To get the value of the N-th element we write `array[N]`. We have also learned that using `&` we can get a physical address of a value. Same goes with arrays."
   ]
  },
  {
   "cell_type": "code",
   "execution_count": null,
   "metadata": {},
   "outputs": [],
   "source": [
    "#include <stdio.h>\n",
    "int main()\n",
    "{\n",
    "   int x[4];\n",
    "   int i;\n",
    "\n",
    "   for(i = 0; i < 4; ++i)\n",
    "   {\n",
    "      printf(\"&x[%d] = %u\\n\", i, &x[i]);\n",
    "   }\n",
    "\n",
    "   printf(\"Address of array x = %u\", x);\n",
    "\n",
    "   return 0;\n",
    "}"
   ]
  },
  {
   "cell_type": "markdown",
   "metadata": {},
   "source": [
    "Note, how printing `&x[0]` and `x` gave us the same result. So, `x` contains an address, therefore, it is a pointer. Furthermore, we can say that getting the value by `x[0]` is equivalent to dereferencing the pointer `*x`."
   ]
  },
  {
   "cell_type": "markdown",
   "metadata": {},
   "source": [
    "## Pointer arithmetic\n",
    "Now, because pointers contain an address, which is a number, we can do arithmetic on that values. Remember that pointers can be considered as other variables when we don't dereference them. Only their content is different.\n",
    "\n",
    "Let us look first how we can use addition with combination to dereferencing (same goes with subtraction)."
   ]
  },
  {
   "cell_type": "code",
   "execution_count": null,
   "metadata": {},
   "outputs": [],
   "source": [
    "#include <stdio.h>\n",
    "int main(){\n",
    "    int x[3] = {1, 2, 3};\n",
    "    printf(\"Address: %u\\tValue: %d\\n\", x, *x);\n",
    "    printf(\"Address: %u\\tValue: %d\\n\", x + 2, *x + 2);\n",
    "    printf(\"Address: %u\\tValue: %d\\n\", x + 2, *(x + 2));\n",
    "    return 0;\n",
    "}"
   ]
  },
  {
   "cell_type": "markdown",
   "metadata": {},
   "source": [
    "Next we look at using combinations of pre-increment, post-increment and dereferencing"
   ]
  },
  {
   "cell_type": "code",
   "execution_count": null,
   "metadata": {},
   "outputs": [],
   "source": [
    "#include <stdio.h>\n",
    "int main(){\n",
    "    int x[3] = {1, 2, 3};\n",
    "    printf(\"normal\\tAddress: %u\\tValue: %d\\n\", x, *x);\n",
    "    printf(\"post-inc\\tAddress: %u\\tValue: %d\\n\", x++, *x++);\n",
    "    printf(\"post-inc\\tAddress: %u\\tValue: %d\\n\", x++, *(x++));\n",
    "    printf(\"pre-inc\\tAddress: %u\\tValue: %d\\n\", ++x, *++x);\n",
    "    printf(\"pre-inc\\tAddress: %u\\tValue: %d\\n\", ++x, *(++x));\n",
    "    return 0;\n",
    "}"
   ]
  },
  {
   "cell_type": "markdown",
   "metadata": {},
   "source": [
    "So we can see the following:\n",
    " - *x++ =="
   ]
  },
  {
   "cell_type": "markdown",
   "metadata": {},
   "source": [
    "### C strings\n",
    "Strings can be defined in two ways:\n",
    " 1. `char *ptr = \"Hello!\";`\n",
    " 2. `char array[] = \"Hello!\";`\n",
    " \n",
    "Lets try to change `e` to `a` in both cases."
   ]
  },
  {
   "cell_type": "code",
   "execution_count": null,
   "metadata": {},
   "outputs": [],
   "source": [
    "#include <stdio.h>\n",
    "int main(){\n",
    "    char *ptr = \"Hello!\";\n",
    "    *(ptr + 1) = `a`;\n",
    "    printf(\"New string: %s\", ptr);\n",
    "    return 0;\n",
    "}"
   ]
  },
  {
   "cell_type": "code",
   "execution_count": null,
   "metadata": {},
   "outputs": [],
   "source": [
    "#include <stdio.h>\n",
    "int main(){\n",
    "    char array[] = \"Hello!\";\n",
    "    *(array + 1) = `a`;\n",
    "    printf(\"New string: %s\", array);\n",
    "    return 0;\n",
    "}"
   ]
  },
  {
   "cell_type": "markdown",
   "metadata": {},
   "source": [
    "Beacuse arrays are similar to pointers, someone would argue that both declarations are equivalent. But this is not the case. In C we have **string literals**. They are a sequence of characters surrounded by double quotes. They are always stored at *read-only memory*. This memory cannot be modified. \n",
    "\n",
    "In the first case we make a pointer that points to the memory location of the string literal. When we want to change it, we get memory access violation.\n",
    "\n",
    "In th second case array allocates memory and copies string literal into it. Therefore, we can modify our string. The second case is equivalent to writing\n",
    "\n",
    "`char array[] = {'H', 'e', 'l', 'l', 'o', '\\0'}`"
   ]
  },
  {
   "cell_type": "markdown",
   "metadata": {},
   "source": [
    "### Special pointers (const pointer, void pointer, null pointer, pointer to pointer)"
   ]
  },
  {
   "cell_type": "markdown",
   "metadata": {},
   "source": [
    "### Static pointer vs Dynamic pointer"
   ]
  },
  {
   "cell_type": "markdown",
   "metadata": {},
   "source": [
    "## Memory management"
   ]
  },
  {
   "cell_type": "markdown",
   "metadata": {},
   "source": [
    "## Structures"
   ]
  },
  {
   "cell_type": "markdown",
   "metadata": {},
   "source": [
    "## Command line arguments"
   ]
  }
 ],
 "metadata": {
  "kernelspec": {
   "display_name": "Python 3",
   "language": "python",
   "name": "python3"
  },
  "language_info": {
   "codemirror_mode": {
    "name": "ipython",
    "version": 3
   },
   "file_extension": ".py",
   "mimetype": "text/x-python",
   "name": "python",
   "nbconvert_exporter": "python",
   "pygments_lexer": "ipython3",
   "version": "3.6.8"
  }
 },
 "nbformat": 4,
 "nbformat_minor": 2
}
